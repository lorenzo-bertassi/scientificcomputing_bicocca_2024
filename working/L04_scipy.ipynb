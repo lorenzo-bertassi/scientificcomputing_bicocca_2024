{
 "cells": [
  {
   "cell_type": "markdown",
   "metadata": {},
   "source": [
    "# Numerical methods: Scipy\n",
    "\n",
    "*Davide Gerosa (Milano-Bicocca)*\n",
    "\n",
    "**Sources**: Michael Zingale at Stony Brook University: https://sbu-python-class.github.io"
   ]
  },
  {
   "cell_type": "code",
   "execution_count": null,
   "metadata": {},
   "outputs": [],
   "source": [
    "import numpy as np\n",
    "import matplotlib.pyplot as plt"
   ]
  },
  {
   "cell_type": "markdown",
   "metadata": {},
   "source": [
    "Scipy is a collection of numerical algorithms with python interfaces.  In many cases, these interfaces are wrappers around standard numerical libraries that have been developed in the community and are used with other languages.  Usually, detailed references are available to explain the implementation.\n",
    "\n",
    "There are many subpackages generally, you load the subpackages separately, e.g.\n",
    "\n",
    "```\n",
    "from scipy import linalg, optimize\n",
    "```\n",
    "and you have access to the methods in those namespaces.\n"
   ]
  },
  {
   "cell_type": "markdown",
   "metadata": {},
   "source": [
    "## Numerical Methods \n",
    "\n",
    "One thing to keep in mind -- all numerical methods have strengths and weaknesses, and make assumptions.  You should **always** do some research into the method to understand what it is doing.\n",
    "\n",
    "It is also always a good idea to run a new method on some test where you know the answer, to make sure it is behaving as expected."
   ]
  },
  {
   "cell_type": "markdown",
   "metadata": {},
   "source": [
    "Scipy has *a lot* to offer. In these notes:\n",
    " - Integration\n",
    " - Interpolation\n",
    " - Root finding\n",
    " - ODE (Cauchy problems)\n",
    " - ODE (Boundary value problems)\n",
    " - Fitting\n",
    " - Fourier transforms\n",
    " - Linear algebra\n",
    " \n",
    " (something that I won't cover here but it's immensely useful is `scipy.stats`)"
   ]
  },
  {
   "cell_type": "code",
   "execution_count": null,
   "metadata": {},
   "outputs": [],
   "source": []
  },
  {
   "cell_type": "markdown",
   "metadata": {},
   "source": [
    "## Integration"
   ]
  },
  {
   "cell_type": "markdown",
   "metadata": {},
   "source": [
    "We'll do some integrals of the form\n",
    "\n",
    "$$I = \\int_a^b f(x) dx$$\n",
    "\n",
    "We can imagine two situations:\n",
    "* Our function $f(x)$ is given by an analytic expression.  This gives us the freedom to pick our integration points, and in general can allow us to optimize our result and get high accuracy\n",
    "* Our function $f(x)$ is defined on at a set of (possibly regular spaced) points.  \n",
    "\n",
    "In numerical analysis, the term _quadrature_ is used to describe any integration method that represents the integral as the weighted sum of a discrete number of points."
   ]
  },
  {
   "cell_type": "code",
   "execution_count": null,
   "metadata": {},
   "outputs": [],
   "source": [
    "from scipy import integrate\n",
    "#help(integrate)"
   ]
  },
  {
   "cell_type": "markdown",
   "metadata": {},
   "source": [
    "Let's consider integrating\n",
    "\n",
    "$$I = \\int_0^{2\\pi} \\sin^2(x) dx$$\n",
    "\n",
    "`quad` is the basic integrator for a general (not sampled) function.  It uses a general-interface from the Fortran package QUADPACK (QAGS or QAGI).  It will return the integral in an interval and an estimate of the error in the approximation"
   ]
  },
  {
   "cell_type": "code",
   "execution_count": null,
   "metadata": {},
   "outputs": [],
   "source": [
    "def f(x):\n",
    "    return np.sin(x)**2"
   ]
  },
  {
   "cell_type": "code",
   "execution_count": null,
   "metadata": {
    "tags": []
   },
   "outputs": [],
   "source": [
    "#help(integrate.quad)"
   ]
  },
  {
   "cell_type": "markdown",
   "metadata": {},
   "source": [
    "`quad` will return the integral and an estimate of the error.  We can seek more accuracy by setting `epsabs` and `epsrel`,\n",
    "but remember that we can't do better than roundoff error."
   ]
  },
  {
   "cell_type": "code",
   "execution_count": null,
   "metadata": {},
   "outputs": [],
   "source": [
    "I, err = integrate.quad(f, 0.0, 2.0*np.pi, epsabs=1.e-7, epsrel=1.e-7)\n",
    "print(I)\n",
    "print(err)"
   ]
  },
  {
   "cell_type": "code",
   "execution_count": null,
   "metadata": {},
   "outputs": [],
   "source": [
    "#help(integrate.quad)"
   ]
  },
  {
   "cell_type": "markdown",
   "metadata": {},
   "source": [
    "### Additional arguments\n",
    "\n",
    "Sometimes our integrand function takes optional arguments.  Let's consider integrating\n",
    "\n",
    "$$g(x) = A e^{-(x/\\sigma)^2}$$\n",
    "\n",
    "now we want to be able to define the amplitude, $A$, and width, $\\sigma$ as part of the function."
   ]
  },
  {
   "cell_type": "code",
   "execution_count": null,
   "metadata": {},
   "outputs": [],
   "source": [
    "def g(x, A, sigma):\n",
    "    return A*np.exp(-x**2/sigma**2)"
   ]
  },
  {
   "cell_type": "code",
   "execution_count": null,
   "metadata": {},
   "outputs": [],
   "source": [
    "I, err = integrate.quad(g, -1.0, 1.0, args=(1.0, 2.0))\n",
    "print(I, err)"
   ]
  },
  {
   "cell_type": "markdown",
   "metadata": {},
   "source": [
    "### Integrating to infinity\n",
    "\n",
    "Numpy defines the `inf` quantity which can be used in the integration limits.  We can integrate a Gaussian over $[-\\infty, \\infty]$ (we know the answer\n",
    "is $\\sqrt{\\pi}$).\n",
    "\n",
    "Note: behind the scenes, what the integration function does is do a variable transform like: $t = 1/x$.  This works when one limit is $\\infty$, giving\n",
    "\n",
    "$$\\int_a^b f(x) dx = \\int_{1/b}^{1/a} \\frac{1}{t^2} f\\left (\\frac{1}{t}\\right) dt$$"
   ]
  },
  {
   "cell_type": "code",
   "execution_count": null,
   "metadata": {},
   "outputs": [],
   "source": [
    "I, err = integrate.quad(g, -np.inf, np.inf, args=(1.0, 1.0))\n",
    "print(I, err)\n",
    "print(np.pi**0.5)\n",
    "print(abs(I-np.pi**0.5)) #Remember 0 in a computer always means \"0 within machine epsilon\""
   ]
  },
  {
   "cell_type": "markdown",
   "metadata": {},
   "source": [
    "### Multidimensional integrals"
   ]
  },
  {
   "cell_type": "markdown",
   "metadata": {},
   "source": [
    "Multidimensional integration can be done with successive calls to quad(), but there are wrappers that help"
   ]
  },
  {
   "cell_type": "markdown",
   "metadata": {},
   "source": [
    "Let's compute \n",
    "\n",
    "$$I = \\int_{y=0}^{1/2} \\int_{x=0}^{1-2y} xy dxdy = \\frac{1}{96}$$\n",
    "\n",
    "(this example comes from the scipy tutorial)\n",
    "\n",
    "Notice that the limits of integration in $x$ depend on $y$.\n",
    "\n",
    "Note the form of the function:\n",
    "\n",
    "```\n",
    "dblquad(f, a, b, xlo, xhi)\n",
    "```\n",
    "where `f` = `f(y, x)` -- the y argument is first\n",
    "\n",
    "The integral will be from: $y = [0, 1/2]$, and $x$ = `xlo(y)`, $x$ = `xhi(y)`"
   ]
  },
  {
   "cell_type": "code",
   "execution_count": null,
   "metadata": {},
   "outputs": [],
   "source": [
    "def integrand(y, x):\n",
    "    return x*y\n",
    "\n",
    "def x_lower_lim(y):\n",
    "    return 0\n",
    "    \n",
    "def x_upper_lim(y):\n",
    "    return 1-2*y\n",
    "\n",
    "# we change the definitions of x and y in this call\n",
    "I, err = integrate.dblquad(integrand, 0.0, 0.5, x_lower_lim, x_upper_lim)\n",
    "print(I, err)\n"
   ]
  },
  {
   "cell_type": "markdown",
   "metadata": {},
   "source": [
    "If you remember the python lambda functions (one-shot functions), you can do this more compactly:"
   ]
  },
  {
   "cell_type": "code",
   "execution_count": null,
   "metadata": {},
   "outputs": [],
   "source": [
    "I, err = integrate.dblquad(lambda y, x: x*y, 0.0, 0.5, lambda y: 0, lambda y: 1-2*y)\n",
    "print(I)"
   ]
  },
  {
   "cell_type": "markdown",
   "metadata": {},
   "source": [
    "### Integration of a sampled function"
   ]
  },
  {
   "cell_type": "markdown",
   "metadata": {},
   "source": [
    "Here we integrate a function that is defined only at a sequence of points.  Recall that Simpson's rule will use piecewise parabola data.  Let's compute\n",
    "\n",
    "$$I = \\int_0^{2\\pi} f(x_i) dx$$\n",
    "\n",
    "with $x_i = 0, \\ldots, 2\\pi$ defined at $N$ points"
   ]
  },
  {
   "cell_type": "code",
   "execution_count": null,
   "metadata": {},
   "outputs": [],
   "source": [
    "N = 17\n",
    "x = np.linspace(0.0, 2.0*np.pi, N, endpoint=True)\n",
    "y = np.sin(x)**2\n",
    "\n",
    "I = integrate.simpson(y, x=x)\n",
    "print(I)"
   ]
  },
  {
   "cell_type": "markdown",
   "metadata": {},
   "source": [
    "Romberg integration is specific to equally-spaced samples, where $N = 2^k + 1$  and converge faster (it uses extrapolation of coarser integration results to achieve higher accuracy)"
   ]
  },
  {
   "cell_type": "code",
   "execution_count": null,
   "metadata": {},
   "outputs": [],
   "source": [
    "N = 17\n",
    "x = np.linspace(0.0, 2.0*np.pi, N, endpoint=True)\n",
    "y = np.sin(x)**2\n",
    "\n",
    "I = integrate.romb(y, dx=x[1]-x[0])\n",
    "print(I)"
   ]
  },
  {
   "cell_type": "markdown",
   "metadata": {},
   "source": [
    "<div class=\"alert alert-block alert-warning\">\n",
    "    \n",
    "<span class=\"fa fa-flash\"></span> Quick Exercise:\n",
    "\n",
    "Compute the same integral using a Monte Carlo estimator and numpy.mean.\n",
    "    \n",
    "</div>"
   ]
  },
  {
   "cell_type": "markdown",
   "metadata": {},
   "source": [
    "## Interpolation"
   ]
  },
  {
   "cell_type": "markdown",
   "metadata": {},
   "source": [
    "Interpolation fills in the gaps between a discrete number of points by making an assumption about the behavior of the functional form of the data. The same thing in the machine-learning world is sometimes called \"emulation\". \n",
    "\n",
    "Many different types of interpolation exist\n",
    "* some ensure no new extrema are introduced\n",
    "* some conserve the quantity being interpolated\n",
    "* some match derivative at endpoints\n",
    "\n",
    "Pathologies exist -- it is not always best to use a high-order polynomial to pass through all of the points in your dataset."
   ]
  },
  {
   "cell_type": "markdown",
   "metadata": {},
   "source": [
    "The `interp1d()` function allows for a variety of 1-d interpolation methods.  It returns an object that acts as a function, which can be evaluated at any point."
   ]
  },
  {
   "cell_type": "code",
   "execution_count": null,
   "metadata": {},
   "outputs": [],
   "source": [
    "import scipy.interpolate as interpolate"
   ]
  },
  {
   "cell_type": "code",
   "execution_count": null,
   "metadata": {
    "tags": []
   },
   "outputs": [],
   "source": [
    "#help(interpolate.interp1d)"
   ]
  },
  {
   "cell_type": "markdown",
   "metadata": {},
   "source": [
    "Let's sample \n",
    "\n",
    "$$f(x) = x \\sin(x)$$\n",
    "\n",
    "and try to interpolate it."
   ]
  },
  {
   "cell_type": "code",
   "execution_count": null,
   "metadata": {},
   "outputs": [],
   "source": [
    "def f_exact(x):\n",
    "    return np.sin(x)*x"
   ]
  },
  {
   "cell_type": "code",
   "execution_count": null,
   "metadata": {},
   "outputs": [],
   "source": [
    "N = 10\n",
    "x = np.linspace(0, 20, N)\n",
    "\n",
    "y = f_exact(x)"
   ]
  },
  {
   "cell_type": "code",
   "execution_count": null,
   "metadata": {
    "tags": []
   },
   "outputs": [],
   "source": [
    "fig, ax = plt.subplots()\n",
    "\n",
    "x_fine = np.linspace(0, 20, 10*N)\n",
    "\n",
    "ax.scatter(x, y)\n",
    "ax.plot(x_fine, f_exact(x_fine), ls=\":\", label=\"original function\")"
   ]
  },
  {
   "cell_type": "markdown",
   "metadata": {},
   "source": [
    "When we create an interpolant via `interp1d`, it creates a function object"
   ]
  },
  {
   "cell_type": "code",
   "execution_count": null,
   "metadata": {},
   "outputs": [],
   "source": [
    "f_interp = interpolate.interp1d(x, y, kind=\"cubic\")"
   ]
  },
  {
   "cell_type": "code",
   "execution_count": null,
   "metadata": {},
   "outputs": [],
   "source": [
    "ax.plot(x_fine, f_interp(x_fine), label=\"interpolant\")\n",
    "\n",
    "ax.legend(frameon=False, loc=\"best\")\n",
    "fig"
   ]
  },
  {
   "cell_type": "markdown",
   "metadata": {},
   "source": [
    "### Multi-d interpolation"
   ]
  },
  {
   "cell_type": "markdown",
   "metadata": {},
   "source": [
    "Here's an example of mult-d interpolation from the official tutorial.\n",
    "\n",
    "First we define the \"answer\" -- this is the true function that we will sample at a number of points and then try to use interpolation to recover"
   ]
  },
  {
   "cell_type": "code",
   "execution_count": null,
   "metadata": {},
   "outputs": [],
   "source": [
    "def func(x, y):\n",
    "    return x*(1-x)*np.cos(4*np.pi*x) * np.sin(4*np.pi*y**2)**2"
   ]
  },
  {
   "cell_type": "markdown",
   "metadata": {},
   "source": [
    "Here will use mgrid to create the grid of (x,y) where we know func exactly -- this will be for plotting.  Note the fun trick here, this is not really a function, but rather something that can magically look like an array, and we index it with the start:stop:stride.  If we set stride to an imaginary number, then it is interpreted as the number of points to put between the start and stop"
   ]
  },
  {
   "cell_type": "code",
   "execution_count": null,
   "metadata": {},
   "outputs": [],
   "source": [
    "grid_x, grid_y = np.mgrid[0:1:100j, 0:1:200j]"
   ]
  },
  {
   "cell_type": "code",
   "execution_count": null,
   "metadata": {},
   "outputs": [],
   "source": [
    "print(grid_x.shape)\n",
    "print(grid_y.shape)"
   ]
  },
  {
   "cell_type": "markdown",
   "metadata": {},
   "source": [
    "Here's what the exact function looks like -- note that our function is defined in x,y, but imshow is meant for plotting an array, so the first index is the row.  We take the transpose when plotting"
   ]
  },
  {
   "cell_type": "code",
   "execution_count": null,
   "metadata": {},
   "outputs": [],
   "source": [
    "fig, ax = plt.subplots()\n",
    "ax.imshow(func(grid_x, grid_y).T, extent=(0,1,0,1), origin=\"lower\")"
   ]
  },
  {
   "cell_type": "markdown",
   "metadata": {},
   "source": [
    "Now we'll define 1000 random points where we'll sample the function"
   ]
  },
  {
   "cell_type": "code",
   "execution_count": null,
   "metadata": {},
   "outputs": [],
   "source": [
    "points = np.random.rand(1000, 2)\n",
    "values = func(points[:,0], points[:,1])"
   ]
  },
  {
   "cell_type": "markdown",
   "metadata": {},
   "source": [
    "Here's what those points look like:"
   ]
  },
  {
   "cell_type": "code",
   "execution_count": null,
   "metadata": {},
   "outputs": [],
   "source": [
    "fig, ax = plt.subplots()\n",
    "ax.scatter(points[:,0], points[:,1], s=1)\n",
    "ax.set_xlim(0, 1)\n",
    "ax.set_ylim(0, 1)"
   ]
  },
  {
   "cell_type": "markdown",
   "metadata": {},
   "source": [
    "The interpolate.griddata() function provides many ways to interpolate a collection of points into a uniform grid.  There are many different interpolation methods within this function"
   ]
  },
  {
   "cell_type": "code",
   "execution_count": null,
   "metadata": {},
   "outputs": [],
   "source": [
    "grid_z0 = interpolate.griddata(points, values, (grid_x, grid_y), method='nearest')\n",
    "\n",
    "fig, ax = plt.subplots()\n",
    "ax.imshow(grid_z0.T, extent=(0,1,0,1), origin=\"lower\")"
   ]
  },
  {
   "cell_type": "code",
   "execution_count": null,
   "metadata": {},
   "outputs": [],
   "source": [
    "grid_z0 = interpolate.griddata(points, values, (grid_x, grid_y), method='linear')\n",
    "\n",
    "fig, ax = plt.subplots()\n",
    "ax.imshow(grid_z0.T, extent=(0,1,0,1), origin=\"lower\")"
   ]
  },
  {
   "cell_type": "code",
   "execution_count": null,
   "metadata": {},
   "outputs": [],
   "source": [
    "grid_z0 = interpolate.griddata(points, values, (grid_x, grid_y), method='cubic')\n",
    "\n",
    "fig, ax = plt.subplots()\n",
    "ax.imshow(grid_z0.T, extent=(0,1,0,1), origin=\"lower\")"
   ]
  },
  {
   "cell_type": "markdown",
   "metadata": {},
   "source": [
    "## Root Finding"
   ]
  },
  {
   "cell_type": "markdown",
   "metadata": {},
   "source": [
    "Often we need to find a value of a variable that zeros a function -- this is _root finding_.  Sometimes, this is a multidimensional problem."
   ]
  },
  {
   "cell_type": "markdown",
   "metadata": {},
   "source": [
    "The `brentq()` routine offers a very robust method for find roots from a scalar function.  You do need to provide an interval that bounds the root."
   ]
  },
  {
   "cell_type": "markdown",
   "metadata": {},
   "source": [
    "Let's consider:\n",
    "\n",
    "$f(x) = \\frac{x e^x}{e^x - 1} - 5$\n",
    "\n",
    "(this is the non-linear equation that comes up in deriving [Wien's law for radiation](https://en.wikipedia.org/wiki/Wien%27s_displacement_law))"
   ]
  },
  {
   "cell_type": "code",
   "execution_count": null,
   "metadata": {},
   "outputs": [],
   "source": [
    "import scipy.optimize as optimize"
   ]
  },
  {
   "cell_type": "code",
   "execution_count": null,
   "metadata": {},
   "outputs": [],
   "source": [
    "def f(x):\n",
    "    return (x*np.exp(x)/(np.exp(x) - 1.0) - 5.0)"
   ]
  },
  {
   "cell_type": "code",
   "execution_count": null,
   "metadata": {},
   "outputs": [],
   "source": [
    "root, r = optimize.brentq(f, 0.1, 10.0, full_output=True)\n",
    "\n",
    "print(root)\n",
    "print(r.converged)"
   ]
  },
  {
   "cell_type": "code",
   "execution_count": null,
   "metadata": {},
   "outputs": [],
   "source": [
    "r?"
   ]
  },
  {
   "cell_type": "code",
   "execution_count": null,
   "metadata": {},
   "outputs": [],
   "source": [
    "x = np.linspace(0., 10.0, 1000)\n",
    "fig, ax = plt.subplots()\n",
    "ax.plot(x, f(x))\n",
    "ax.scatter(np.array([root]), np.array([f(root)]))\n",
    "ax.grid()"
   ]
  },
  {
   "cell_type": "markdown",
   "metadata": {},
   "source": [
    "## ODEs"
   ]
  },
  {
   "cell_type": "markdown",
   "metadata": {},
   "source": [
    "Many methods exist for integrating ordinary differential equations.  Most will want you to write your ODEs as a system of first-order equations."
   ]
  },
  {
   "cell_type": "markdown",
   "metadata": {},
   "source": [
    "This system of ODEs is the [Lorenz system](https://en.wikipedia.org/wiki/Lorenz_system), which is used in atmosphere modeling and has funny mathematical properties (chaos!).\n",
    "\n",
    "$$\\frac{dx}{dt} = \\sigma (y - x)$$\n",
    "$$\\frac{dy}{dt} = rx - y - xz$$\n",
    "$$\\frac{dz}{dt} = xy - bz$$\n",
    "\n",
    "The steady states of this system correspond to:\n",
    "\n",
    "$${\\bf f}({\\bf x}) = \n",
    "\\left (\n",
    "\\sigma (y -x), \n",
    "rx - y -xz, \n",
    "xy - bz\n",
    "\\right )^\\intercal\n",
    "= 0$$\n"
   ]
  },
  {
   "cell_type": "code",
   "execution_count": null,
   "metadata": {},
   "outputs": [],
   "source": [
    "# system parameters\n",
    "sigma = 10.0\n",
    "b = 8./3.\n",
    "r = 28.0\n",
    "\n",
    "def rhs(t, x):\n",
    "    xdot = sigma*(x[1] - x[0])\n",
    "    ydot = r*x[0] - x[1] - x[0]*x[2]\n",
    "    zdot = x[0]*x[1] - b*x[2]\n",
    "\n",
    "    return np.array([xdot, ydot, zdot])\n",
    "\n",
    "def jac(t, x):\n",
    "\n",
    "    return np.array(\n",
    "        [ [-sigma, sigma, 0.0], \n",
    "          [r - x[2], -1.0, -x[0]],\n",
    "          [x[1], x[0], -b] ])\n",
    "\n",
    "def f(x):\n",
    "    return rhs(0.,x), jac(0.,x)"
   ]
  },
  {
   "cell_type": "markdown",
   "metadata": {},
   "source": [
    "Scipy has a uniform interface to the different ODE solvers, `solve_ivp()` -- we use that here \n",
    "\n",
    "(well... for a specific ODE in [this python library](https://github.com/dgerosa/precession) I wrote for black-hole physics, I empirically found that the older implementation `scipy.integrate.odeint` actually gave more robust results).  \n",
    "\n",
    "Note, some (but not all) solvers provide a way to get the solution data at intermediate times (called dense output)."
   ]
  },
  {
   "cell_type": "code",
   "execution_count": null,
   "metadata": {},
   "outputs": [],
   "source": [
    "def ode_integrate(X0, dt, tmax):\n",
    "    \"\"\" integrate using the VODE method, storing the solution each dt \"\"\"\n",
    "\n",
    "    r = integrate.solve_ivp(rhs, (0.0, tmax), X0,\n",
    "                            method=\"RK45\", dense_output=True)\n",
    "\n",
    "    # get the solution at intermediate times\n",
    "    ts = np.arange(0.0, tmax, dt)\n",
    "    \n",
    "    Xs = r.sol(ts)\n",
    "    return ts, Xs"
   ]
  },
  {
   "cell_type": "code",
   "execution_count": null,
   "metadata": {},
   "outputs": [],
   "source": [
    "t, X = ode_integrate([1.0, 1.0, 20.0], 0.02, 30)\n",
    "from mpl_toolkits.mplot3d import Axes3D\n",
    "\n",
    "fig = plt.figure()\n",
    "ax = plt.axes(projection='3d')\n",
    "ax.plot(X[0,:], X[1,:], X[2,:])\n",
    "fig.set_size_inches(8.0,6.0)"
   ]
  },
  {
   "cell_type": "markdown",
   "metadata": {},
   "source": [
    "### Multi-variate root find"
   ]
  },
  {
   "cell_type": "markdown",
   "metadata": {},
   "source": [
    "We can find the steady points in this system by doing a multi-variate root find on the RHS vector\n",
    "\n",
    "Note I start from three different initial guesses..."
   ]
  },
  {
   "cell_type": "code",
   "execution_count": null,
   "metadata": {},
   "outputs": [],
   "source": [
    "sol1 = optimize.root(f, [1., 1., 1.], jac=True)\n",
    "print(sol1.x)\n",
    "\n",
    "sol2 = optimize.root(f, [10., 10., 10.], jac=True)\n",
    "print(sol2.x)\n",
    "\n",
    "sol3 = optimize.root(f, [-10., -10., -10.], jac=True)\n",
    "print(sol3.x)"
   ]
  },
  {
   "cell_type": "code",
   "execution_count": null,
   "metadata": {},
   "outputs": [],
   "source": [
    "fig = plt.figure()\n",
    "fig.set_size_inches(8, 8)\n",
    "ax = plt.axes(projection='3d')\n",
    "\n",
    "ax.plot(X[0,:], X[1,:], X[2,:])\n",
    "\n",
    "ax.scatter(sol1.x[0], sol1.x[1], sol1.x[2], marker=\"x\", color=\"r\")\n",
    "ax.scatter(sol2.x[0], sol2.x[1], sol2.x[2], marker=\"x\", color=\"r\")\n",
    "ax.scatter(sol3.x[0], sol3.x[1], sol3.x[2], marker=\"x\", color=\"r\")\n",
    "\n",
    "ax.set_xlabel(\"x\")\n",
    "ax.set_ylabel(\"y\")\n",
    "ax.set_zlabel(\"z\")"
   ]
  },
  {
   "cell_type": "markdown",
   "metadata": {},
   "source": [
    "### Stiff system of ODEs"
   ]
  },
  {
   "cell_type": "markdown",
   "metadata": {},
   "source": [
    "A [stiff system of ODEs](https://en.wikipedia.org/wiki/Stiff_equation) is one where there are multiple disparate timescales for change and we need to respect all of them to get an accurate solution\n",
    "\n",
    "Here is an example that comes up when studying the rates of chemical reactions (see, ex. Byrne & Hindmarsh 1986, or the VODE source code)\n",
    "\n",
    "$$\n",
    "\\frac{d}{dt} \\left (\n",
    "   \\begin{array}{c} y_1 \\newline y_2 \\newline y_3 \\end{array}\n",
    "  \\right ) =\n",
    "%\n",
    "\\left (\n",
    " \\begin{array}{rrr}\n",
    "  -0.04 y_1 & + 10^4 y_2 y_3  & \\newline\n",
    "   0.04 y_1 & - 10^4 y_2 y_3 & -3\\times 10^7 y_2^2 \\newline\n",
    "   &  & 3\\times 10^7 y_2^2 \n",
    "\\end{array}\n",
    "\\right )\n",
    "$$\n",
    "\n",
    "$$\n",
    "{\\bf J} = \\left (\n",
    "\\begin{array}{ccc}\n",
    "  -0.04 & 10^4 y_3 & 10^4 y_2 \\newline\n",
    "   0.04 & -10^4 y_3 - 6\\times 10^7 y_2 & -10^4 y_2 \\newline\n",
    "   0 & 6\\times 10^7 y_2 & 0 \n",
    "\\end{array}\n",
    "\\right )\n",
    "$$\n",
    "\n",
    "start with $y_1(0) = 1, y_2(0) = y_3(0) = 0$.  Long term behavior is $y_1, y_2 \\rightarrow 0; y_3 \\rightarrow 1$. Notice how we have terms that differ by several orders of magnitudes! A computer doesn't like it.\n",
    "\n",
    "Using [LSODA](https://www.osti.gov/etdeweb/biblio/21352532) here, which is a powerful algorithm with automatic stiffness detection."
   ]
  },
  {
   "cell_type": "code",
   "execution_count": null,
   "metadata": {},
   "outputs": [],
   "source": [
    "def rhs(t, Y):\n",
    "    \"\"\" RHS of the system -- using 0-based indexing \"\"\"\n",
    "    y1 = Y[0]\n",
    "    y2 = Y[1]\n",
    "    y3 = Y[2]\n",
    "\n",
    "    dy1dt = -0.04*y1 + 1.e4*y2*y3\n",
    "    dy2dt =  0.04*y1 - 1.e4*y2*y3 - 3.e7*y2**2\n",
    "    dy3dt =                         3.e7*y2**2\n",
    "\n",
    "    return np.array([dy1dt, dy2dt, dy3dt])\n",
    "\n",
    "def jac(t, Y):\n",
    "    \"\"\" J_{i,j} = df_i/dy_j \"\"\"\n",
    "\n",
    "    y1 = Y[0]\n",
    "    y2 = Y[1]\n",
    "    y3 = Y[2]\n",
    "\n",
    "    df1dy1 = -0.04\n",
    "    df1dy2 = 1.e4*y3\n",
    "    df1dy3 = 1.e4*y2\n",
    "\n",
    "    df2dy1 = 0.04\n",
    "    df2dy2 = -1.e4*y3 - 6.e7*y2\n",
    "    df2dy3 = -1.e4*y2\n",
    "\n",
    "    df3dy1 = 0.0\n",
    "    df3dy2 = 6.e7*y2\n",
    "    df3dy3 = 0.0\n",
    "\n",
    "    return np.array([ [ df1dy1, df1dy2, df1dy3 ],\n",
    "                      [ df2dy1, df2dy2, df2dy3 ],\n",
    "                      [ df3dy1, df3dy2, df3dy3 ] ])"
   ]
  },
  {
   "cell_type": "code",
   "execution_count": null,
   "metadata": {},
   "outputs": [],
   "source": [
    "def vode_integrate(Y0, tmax):\n",
    "    \"\"\" integrate using the NDF method \"\"\"\n",
    "\n",
    "    r = integrate.solve_ivp(rhs, (0.0, tmax), Y0,\n",
    "                            method=\"LSODA\", jac=jac, rtol=1.e-7, atol=1.e-10)\n",
    "\n",
    "    # Note: this solver does not have a dens_output method, instead we \n",
    "    # access the solution data where it was evaluated internally via\n",
    "    # the return object\n",
    "    \n",
    "    return r.t, r.y"
   ]
  },
  {
   "cell_type": "code",
   "execution_count": null,
   "metadata": {},
   "outputs": [],
   "source": [
    "Y0 = np.array([1.0, 0.0, 0.0])\n",
    "tmax = 4.e7\n",
    "\n",
    "ts, Ys = vode_integrate(Y0, tmax)\n",
    "\n",
    "ax = plt.gca()\n",
    "ax.set_xscale('log')\n",
    "ax.set_yscale('log')\n",
    "\n",
    "plt.plot(ts, Ys[0,:], label=r\"$y_1$\")\n",
    "plt.plot(ts, Ys[1,:], label=r\"$y_2$\")\n",
    "plt.plot(ts, Ys[2,:], label=r\"$y_3$\")\n",
    "\n",
    "plt.legend(loc=\"best\");"
   ]
  },
  {
   "cell_type": "markdown",
   "metadata": {},
   "source": [
    "## Boundary Value Problems\n",
    "\n",
    "(From the [University of Chicago class](https://github.com/caam37830/book/blob/master/04_functions/bvp.ipynb))\n",
    "\n",
    "\n",
    "In initial value problems, we find a unique solution to an ODE by specifying initial conditions.  Another way to obtain a unique solution to an ODE (or PDE) is to specify boundary values.\n"
   ]
  },
  {
   "cell_type": "markdown",
   "metadata": {},
   "source": [
    "### The Heat Equation\n",
    "\n",
    "The [Heat Equation](https://en.wikipedia.org/wiki/Heat_equation) is a second-order PDE obeying\n",
    "\n",
    "\\begin{equation}\n",
    "\\Delta u(x, t) = \\partial_t u(x, t)\n",
    "\\end{equation}\n",
    "where $\\Delta$ is the Laplacian operator\n",
    "\\begin{equation}\n",
    "\\Delta = \\sum_i \\partial_i^2\n",
    "\\end{equation}\n",
    "\n",
    "This equation is in a steady state if $\\partial_t u = 0$ (i.e. the solution is not changing with time).  \n",
    "\n",
    "We'll consider the steady state of the heat equation on a 1-dimensional domain $[0,1]$, where we have the ends of the domain set to fixed temperatures.  In this case, we can write the solution as a boundary value problem for a second-order ODE:\n",
    "\\begin{equation}\n",
    "\\frac{d^2 u}{dx^2} = 0 \\qquad u\\in (0,1)\\\\\n",
    "u(0) = a\\\\\n",
    "u(1) = b\n",
    "\\end{equation}\n",
    "\n",
    "You might think of this as describing the temperature of a metal bar which is placed between two objects of differing temperatures. We know the temperatures at the beginning and at the end of the bar (and not the temperature and its derivative both at the beginning, as you would have for an IVP)"
   ]
  },
  {
   "cell_type": "code",
   "execution_count": null,
   "metadata": {},
   "outputs": [],
   "source": [
    "import numpy as np\n",
    "import scipy.linalg as la\n",
    "import matplotlib.pyplot as plt\n",
    "from scipy.integrate import solve_bvp"
   ]
  },
  {
   "cell_type": "markdown",
   "metadata": {},
   "source": [
    "We'll introduce the variable $p = du / dx$ to obtain a system of first-order ODEs:\n",
    "\\begin{equation}\n",
    "\\frac{dp}{dx} = 0\\\\\n",
    "\\frac{du}{dx} = p\n",
    "\\end{equation}\n",
    "\n",
    "with the same boundary conditions.  The variable `y = [u, p]` will be a 2-vector containing the state.\n",
    "\n",
    "We'll use boundary conditions $y(0)[0] = u(0) = 5 = a$ and $y(1)[0] = u(1) = 1 = b$\n",
    "\n",
    "Finally, we use [`solve_bvp`](https://docs.scipy.org/doc/scipy/reference/generated/scipy.integrate.solve_bvp.html) from `scipy.integrate` to solve the boundary value problem. This implements a [collocation method](https://en.wikipedia.org/wiki/Collocation_method); another option is that of a [shooting method](https://en.wikipedia.org/wiki/Shooting_method).\n",
    "\n",
    "My own experience on this mostly comes from this piece of work [Gerosa et al 2020](https://arxiv.org/abs/2004.02894) where the dynamics of gas disks around Kerr black holes gives rise to a very challenging boundary value problem. Collocation methods are amazing!   "
   ]
  },
  {
   "cell_type": "code",
   "execution_count": null,
   "metadata": {},
   "outputs": [],
   "source": [
    "# Note I'm using np.vstack here, very useful. For instance:\n",
    "np.vstack((np.zeros(3), [3,4,5]))"
   ]
  },
  {
   "cell_type": "code",
   "execution_count": null,
   "metadata": {},
   "outputs": [],
   "source": [
    "a = 5\n",
    "b = 1\n",
    "\n",
    "def f(x, y):\n",
    "    \"right hand side of ODE\"\n",
    "    return np.vstack([y[1,:], np.zeros(y.shape[1])]) # du/dx = p, dp/dx = 0\n",
    "    \n",
    "def bc(y0, y1): # ya = y[:,0], yb = y[:,-1]\n",
    "    \"boundary condition residual\"\n",
    "    return np.array([y0[0] - a, y1[0] - b])\n",
    "\n",
    "n = 100 # number of points\n",
    "x = np.linspace(0,1,n)\n",
    "# y0 = np.zeros((2,n))\n",
    "y0 = np.random.randn(2,n)\n",
    "\n",
    "# solve bvp\n",
    "sol = solve_bvp(f, bc, x, y0)"
   ]
  },
  {
   "cell_type": "markdown",
   "metadata": {},
   "source": [
    "We can plot the solution value"
   ]
  },
  {
   "cell_type": "code",
   "execution_count": null,
   "metadata": {},
   "outputs": [],
   "source": [
    "plt.plot(sol.x, sol.y[0,:])\n",
    "plt.xlabel('x')\n",
    "plt.ylabel('y')\n",
    "plt.show()"
   ]
  },
  {
   "cell_type": "markdown",
   "metadata": {},
   "source": [
    "We see the solution is a linear function from (0,5) to (1,1).  You can check that such a linear function solves the BVP mathematically."
   ]
  },
  {
   "cell_type": "markdown",
   "metadata": {},
   "source": [
    "We also provide a non-zero right hand side: $\\partial_t u(x,t) = f(x)$."
   ]
  },
  {
   "cell_type": "code",
   "execution_count": null,
   "metadata": {
    "scrolled": false
   },
   "outputs": [],
   "source": [
    "def f(x, y):\n",
    "    \"right hand side of ODE\"\n",
    "    src = -1*np.logical_and(x < 0.6, x > 0.4)\n",
    "    return np.vstack([y[1,:], src])\n",
    "\n",
    "def bc(ya, yb):\n",
    "    \"boundary condition residual\"\n",
    "    return np.array([ya[0], yb[0]])\n",
    "\n",
    "n = 100 # number of points\n",
    "x = np.linspace(0,1,n)\n",
    "y0 = np.zeros((2,n))\n",
    "\n",
    "# solve bvp\n",
    "sol = solve_bvp(f, bc, x, y0)\n",
    "\n",
    "plt.plot(sol.x, sol.y[0,:])\n",
    "plt.xlabel('x')\n",
    "plt.ylabel('y')\n",
    "plt.show()"
   ]
  },
  {
   "cell_type": "markdown",
   "metadata": {},
   "source": [
    "## Fitting\n",
    "\n",
    "Fitting is used to match a model to experimental data.  E.g. we have N points of $(x_i, y_i)$ with associated errors, $\\sigma_i$, and we want to find a simple function that best represents the data.\n",
    "\n",
    "Usually, this means that we will need to define a metric, often called the residual (or loss function for the machine-learning people), for how well our function matches the data, and then minimize this residual.  Least-squares fitting is a popular formulation. The underlying assumption behind least-squares fitting is that errors are Gaussianly distributed which is often (but not always!) true because of the [Central Limit Theorem](https://en.wikipedia.org/wiki/Central_limit_theorem). In that case, one can prove least squares are equivalent to the maximum-likelihood estimator.  \n",
    "\n",
    "We want to fit our data to a function $Y(x, \\{a_j\\})$, where $a_j$ are model parameters we can adjust.  We want to find the optimal $a_j$ to minimize the distance of $Y$ from our data:\n",
    "\n",
    "$$\\Delta_i = Y(x_i, \\{a_j\\}) - y_i$$\n",
    "\n",
    "Least-squares minimizes $\\chi^2$:\n",
    "\n",
    "$$\\chi^2(\\{a_j\\}) = \\sum_{i=1}^N \\left ( \\frac{\\Delta_i}{\\sigma_i} \\right )^2$$\n",
    "\n",
    "\n",
    "**Careful** For your own research, always make sure you *can* actually use least-square fitting! This requires errors to be normally distributed.  Often it's not the case and this technique is widely abused.  "
   ]
  },
  {
   "cell_type": "markdown",
   "metadata": {},
   "source": [
    "### General linear least squares"
   ]
  },
  {
   "cell_type": "markdown",
   "metadata": {},
   "source": [
    "First we'll make some experimental data (a quadratic with random fashion).  We use the randn() function to provide Gaussian normalized errors."
   ]
  },
  {
   "cell_type": "code",
   "execution_count": null,
   "metadata": {},
   "outputs": [],
   "source": [
    "def y_experiment2(a1, a2, a3, sigma, x):\n",
    "    \"\"\" return the experimental data in a quadratic + random fashion,                              \n",
    "        with a1, a2, a3 the coefficients of the quadratic and sigma is                             \n",
    "        the error.  This will be poorly matched to a linear fit for                                \n",
    "        a3 != 0 \"\"\"\n",
    "\n",
    "    N = len(x)\n",
    "\n",
    "    # randn gives samples from the \"standard normal\" distribution                                  \n",
    "    r = np.random.randn(N)\n",
    "\n",
    "    y = a1 + a2*x + a3*x*x + sigma*r\n",
    "\n",
    "    return y\n",
    "\n",
    "N = 40\n",
    "sigma = 5.0*np.ones(N)\n",
    "\n",
    "x = np.linspace(0, 100.0, N)\n",
    "y = y_experiment2(2.0, 1.50, -0.02, sigma, x)"
   ]
  },
  {
   "cell_type": "code",
   "execution_count": null,
   "metadata": {},
   "outputs": [],
   "source": [
    "fig, ax = plt.subplots()\n",
    "ax.scatter(x,y)\n",
    "ax.errorbar(x, y, yerr=sigma, fmt=\"o\")"
   ]
  },
  {
   "cell_type": "code",
   "execution_count": null,
   "metadata": {},
   "outputs": [],
   "source": [
    "def resid(avec, x, y, sigma):\n",
    "    \"\"\" the residual function -- this is what will be minimized by the\n",
    "        scipy.optimize.leastsq() routine.  avec is the parameters we\n",
    "        are optimizing -- they are packed in here, so we unpack to\n",
    "        begin.  (x, y) are the data points \n",
    "\n",
    "        scipy.optimize.leastsq() minimizes:\n",
    "\n",
    "           x = arg min(sum(func(y)**2,axis=0))\n",
    "                    y\n",
    "\n",
    "        so this should just be the distance from a point to the curve,\n",
    "        and it will square it and sum over the points\n",
    "        \"\"\"\n",
    "\n",
    "    a0, a1, a2 = avec\n",
    "    \n",
    "    return (y - (a0 + a1*x + a2*x**2))/sigma"
   ]
  },
  {
   "cell_type": "code",
   "execution_count": null,
   "metadata": {},
   "outputs": [],
   "source": [
    "# initial guesses\n",
    "a0, a1, a2 = 1, 1, 1\n",
    "\n",
    "afit, flag = optimize.leastsq(resid, [a0, a1, a2], args=(x, y, sigma))\n",
    "\n",
    "print(afit)"
   ]
  },
  {
   "cell_type": "code",
   "execution_count": null,
   "metadata": {},
   "outputs": [],
   "source": [
    "ax.plot(x, afit[0] + afit[1]*x + afit[2]*x*x )\n",
    "fig"
   ]
  },
  {
   "cell_type": "markdown",
   "metadata": {},
   "source": [
    "$\\chi^2$"
   ]
  },
  {
   "cell_type": "code",
   "execution_count": null,
   "metadata": {},
   "outputs": [],
   "source": [
    "chisq = sum(np.power(resid(afit, x, y, sigma),2))\n",
    "normalization = len(x)-len(afit)\n",
    "print(chisq/normalization)"
   ]
  },
  {
   "cell_type": "markdown",
   "metadata": {},
   "source": [
    "### A nonlinear example"
   ]
  },
  {
   "cell_type": "markdown",
   "metadata": {},
   "source": [
    "Our experimental data are an exponential now"
   ]
  },
  {
   "cell_type": "code",
   "execution_count": null,
   "metadata": {},
   "outputs": [],
   "source": [
    "a0 = 2.5\n",
    "a1 = 2./3.\n",
    "sigma = 5.0\n",
    "\n",
    "a0_orig, a1_orig = a0, a1\n",
    "\n",
    "x = np.linspace(0.0, 4.0, 25)\n",
    "y = a0*np.exp(a1*x) + sigma*np.random.randn(len(x))"
   ]
  },
  {
   "cell_type": "code",
   "execution_count": null,
   "metadata": {},
   "outputs": [],
   "source": [
    "fig, ax = plt.subplots()\n",
    "ax.scatter(x,y)\n",
    "ax.errorbar(x, y, yerr=sigma, fmt=\"o\", label=\"_nolegend_\")"
   ]
  },
  {
   "cell_type": "markdown",
   "metadata": {},
   "source": [
    "Our function to minimize"
   ]
  },
  {
   "cell_type": "code",
   "execution_count": null,
   "metadata": {},
   "outputs": [],
   "source": [
    "def resid(avec, x, y):\n",
    "    \"\"\" the residual function -- this is what will be minimized by the                             \n",
    "        scipy.optimize.leastsq() routine.  avec is the parameters we                               \n",
    "        are optimizing -- they are packed in here, so we unpack to                                 \n",
    "        begin.  (x, y) are the data points                                                         \n",
    "                                                                                                   \n",
    "        scipy.optimize.leastsq() minimizes:                                                        \n",
    "                                                                                                   \n",
    "           x = arg min(sum(func(y)**2,axis=0))                                                     \n",
    "                    y                                                                              \n",
    "                                                                                                   \n",
    "        so this should just be the distance from a point to the curve,                             \n",
    "        and it will square it and sum over the points                                              \n",
    "        \"\"\"\n",
    "\n",
    "    a0, a1 = avec\n",
    "\n",
    "    # note: if we wanted to deal with error bars, we would weight each                             \n",
    "    # residual accordingly                                                                         \n",
    "    return y - a0*np.exp(a1*x)"
   ]
  },
  {
   "cell_type": "code",
   "execution_count": null,
   "metadata": {},
   "outputs": [],
   "source": [
    "a0, a1 = 1, 1\n",
    "afit, flag = optimize.leastsq(resid, [a0, a1], args=(x, y))\n",
    "\n",
    "print(flag)\n",
    "print(afit)"
   ]
  },
  {
   "cell_type": "code",
   "execution_count": null,
   "metadata": {},
   "outputs": [],
   "source": [
    "ax.plot(x, afit[0]*np.exp(afit[1]*x),\n",
    "           label=r\"$a_0 = $ %f; $a_1 = $ %f\" % (afit[0], afit[1]))\n",
    "ax.plot(x, a0_orig*np.exp(a1_orig*x), \":\", label=\"original function\")\n",
    "ax.legend(numpoints=1, frameon=False)\n",
    "fig"
   ]
  },
  {
   "cell_type": "markdown",
   "metadata": {},
   "source": [
    "## Fourier Transforms"
   ]
  },
  {
   "cell_type": "markdown",
   "metadata": {},
   "source": [
    "Fourier transforms convert a physical-space (or time series) representation of a function into frequency space.  This provides an equivalent representation of the data with a new view.\n",
    "\n",
    "The [FFT](https://en.wikipedia.org/wiki/Fast_Fourier_transform#:~:text=A%20fast%20Fourier%20transform%20(FFT,frequency%20domain%20and%20vice%20versa.) and its inverse in numpy use:\n",
    "\n",
    "$$F_k = \\sum_{n=0}^{N-1} f_n e^{-2\\pi i nk/N}$$\n",
    "\n",
    "$$f_n = \\frac{1}{N} \\sum_{k=0}^{N-1} F_k \n",
    "   e^{2\\pi i n k/N}$$\n",
    "   \n",
    "\n",
    "Both numpy and scipy have FFT routines that are similar.  However, the numpy version returns the data in a more convenient form.\n",
    "\n",
    "It's always best to start with something you understand -- let's do a simple sine wave.  Since our function is real, we can use the rfft routines in NumPy -- they understand that we are working with real data and they don't return the negative frequency components.\n",
    "\n",
    "One important caveat -- FFTs assume that you are periodic.  If you include both endpoints of the domain in the points that comprise your sample then you will not match this assumption.  Here we use endpoint=False with linspace()"
   ]
  },
  {
   "cell_type": "code",
   "execution_count": null,
   "metadata": {},
   "outputs": [],
   "source": [
    "def single_freq_sine(npts):\n",
    "\n",
    "    # a pure sine with no phase shift will result in pure imaginary                                         \n",
    "    # signal                                                                                                \n",
    "    f_0 = 0.2\n",
    "\n",
    "    xmax = 10.0/f_0\n",
    "    \n",
    "    xx = np.linspace(0.0, xmax, npts, endpoint=False)\n",
    "\n",
    "    f = np.sin(2.0*np.pi*f_0*xx)\n",
    "\n",
    "    return xx, f"
   ]
  },
  {
   "cell_type": "markdown",
   "metadata": {},
   "source": [
    "To make our life easier, we'll define a function that plots all the stages of the FFT process"
   ]
  },
  {
   "cell_type": "code",
   "execution_count": null,
   "metadata": {},
   "outputs": [],
   "source": [
    "def plot_FFT(xx, f):\n",
    "\n",
    "    npts = len(xx)\n",
    "\n",
    "    # Forward transform: f(x) -> F(k)                                                                       \n",
    "    fk = np.fft.rfft(f)\n",
    "\n",
    "    # Normalization -- the '2' here comes from the fact that we are                                         \n",
    "    # neglecting the negative portion of the frequency space, since                                         \n",
    "    # the FFT of a real function contains redundant information, so                                         \n",
    "    # we are only dealing with 1/2 of the frequency space.                                                  \n",
    "    #                                                                                                       \n",
    "    # technically, we should only scale the 0 bin by N, since k=0 is                                        \n",
    "    # not duplicated -- we won't worry about that for these plots                                           \n",
    "    norm = 2.0/npts\n",
    "\n",
    "    fk = fk*norm\n",
    "\n",
    "    fk_r = fk.real\n",
    "    fk_i = fk.imag\n",
    "\n",
    "    # the fftfreq returns the positive and negative (and 0) frequencies                                      \n",
    "    # the newer versions of numpy (>=1.8) have an rfftfreq() function                                       \n",
    "    # that really does what we want -- we'll use that here.                                                 \n",
    "    k = np.fft.rfftfreq(npts)\n",
    "\n",
    "    # to make these dimensional, we need to divide by dx.  Note that                                        \n",
    "    # max(xx) is not the true length, since we didn't have a point                                          \n",
    "    # at the endpoint of the domain.                                                                        \n",
    "    kfreq = k*npts/(max(xx) + xx[1])\n",
    "\n",
    "    # Inverse transform: F(k) -> f(x) -- without the normalization                                          \n",
    "    fkinv = np.fft.irfft(fk/norm)\n",
    "\n",
    "    # plots\n",
    "    fig, ax = plt.subplots(nrows=4, ncols=1)\n",
    "    \n",
    "    ax[0].plot(xx, f)\n",
    "    ax[0].set_xlabel(\"x\")\n",
    "    ax[0].set_ylabel(\"f(x)\")\n",
    "\n",
    "    ax[1].plot(kfreq, fk_r, label=r\"Re($\\mathcal{F}$)\")\n",
    "    ax[1].plot(kfreq, fk_i, ls=\":\", label=r\"Im($\\mathcal{F}$)\")\n",
    "    ax[1].set_xlabel(r\"$\\nu_k$\")\n",
    "    ax[1].set_ylabel(\"F(k)\")\n",
    "\n",
    "    ax[1].legend(fontsize=\"small\", frameon=False)\n",
    "\n",
    "    ax[2].plot(kfreq, np.abs(fk))\n",
    "    ax[2].set_xlabel(r\"$\\nu_k$\")\n",
    "    ax[2].set_ylabel(r\"|F(k)|\")\n",
    "\n",
    "    ax[3].plot(xx, fkinv.real)\n",
    "    ax[3].set_xlabel(r\"$\\nu_k$\")\n",
    "    ax[3].set_ylabel(r\"inverse F(k)\")\n",
    "\n",
    "    f = plt.gcf()\n",
    "    \n",
    "    f.set_size_inches(10,8)\n",
    "    plt.tight_layout()\n"
   ]
  },
  {
   "cell_type": "code",
   "execution_count": null,
   "metadata": {},
   "outputs": [],
   "source": [
    "npts = 128\n",
    "xx, f = single_freq_sine(npts)\n",
    "plot_FFT(xx, f)"
   ]
  },
  {
   "cell_type": "markdown",
   "metadata": {},
   "source": [
    "A cosine is shifted in phase by pi/2"
   ]
  },
  {
   "cell_type": "code",
   "execution_count": null,
   "metadata": {},
   "outputs": [],
   "source": [
    "def single_freq_cosine(npts):\n",
    "\n",
    "    # a pure cosine with no phase shift will result in pure real                                            \n",
    "    # signal                                                                                                \n",
    "    f_0 = 0.2\n",
    "\n",
    "    xmax = 10.0/f_0\n",
    "\n",
    "    xx = np.linspace(0.0, xmax, npts, endpoint=False)\n",
    "\n",
    "    f = np.cos(2.0*np.pi*f_0*xx)\n",
    "\n",
    "    return xx, f"
   ]
  },
  {
   "cell_type": "code",
   "execution_count": null,
   "metadata": {},
   "outputs": [],
   "source": [
    "xx, f = single_freq_cosine(npts)\n",
    "plot_FFT(xx, f)"
   ]
  },
  {
   "cell_type": "markdown",
   "metadata": {},
   "source": [
    "Now let's look at a sine with a pi/4 phase shift"
   ]
  },
  {
   "cell_type": "code",
   "execution_count": null,
   "metadata": {},
   "outputs": [],
   "source": [
    "def single_freq_sine_plus_shift(npts):\n",
    "\n",
    "    # a pure sine with no phase shift will result in pure imaginary                                         \n",
    "    # signal                                                                                                \n",
    "    f_0 = 0.2\n",
    "\n",
    "    xmax = 10.0/f_0\n",
    "\n",
    "    xx = np.linspace(0.0, xmax, npts, endpoint=False)\n",
    "\n",
    "    f = np.sin(2.0*np.pi*f_0*xx + np.pi/4)\n",
    "\n",
    "    return xx, f"
   ]
  },
  {
   "cell_type": "code",
   "execution_count": null,
   "metadata": {},
   "outputs": [],
   "source": [
    "xx, f = single_freq_sine_plus_shift(npts)\n",
    "plot_FFT(xx, f)"
   ]
  },
  {
   "cell_type": "markdown",
   "metadata": {},
   "source": [
    "### A frequency filter"
   ]
  },
  {
   "cell_type": "markdown",
   "metadata": {},
   "source": [
    "We'll setup a simple two-frequency sine wave and filter a component"
   ]
  },
  {
   "cell_type": "code",
   "execution_count": null,
   "metadata": {},
   "outputs": [],
   "source": [
    "def two_freq_sine(npts):\n",
    "\n",
    "    # a pure sine with no phase shift will result in pure imaginary             \n",
    "    # signal                                                                    \n",
    "    f_0 = 0.2\n",
    "    f_1 = 0.5\n",
    "\n",
    "    xmax = 10.0/f_0\n",
    "\n",
    "    # we call with endpoint=False -- if we include the endpoint, then for       \n",
    "    # a periodic function, the first and last point are identical -- this       \n",
    "    # shows up as a signal in the FFT.                                          \n",
    "    xx = np.linspace(0.0, xmax, npts, endpoint=False)\n",
    "\n",
    "    f = 0.5*(np.sin(2.0*np.pi*f_0*xx) + np.sin(2.0*np.pi*f_1*xx))\n",
    "\n",
    "    return xx, f"
   ]
  },
  {
   "cell_type": "code",
   "execution_count": null,
   "metadata": {},
   "outputs": [],
   "source": [
    "npts = 256\n",
    "\n",
    "xx, f = two_freq_sine(npts)\n",
    "\n",
    "fig, ax = plt.subplots()\n",
    "ax.plot(xx, f)"
   ]
  },
  {
   "cell_type": "markdown",
   "metadata": {},
   "source": [
    "we'll take the transform: f(x) -> F(k)"
   ]
  },
  {
   "cell_type": "code",
   "execution_count": null,
   "metadata": {},
   "outputs": [],
   "source": [
    "# normalization factor: the 2 here comes from the fact that we neglect          \n",
    "# the negative portion of frequency space because our input function            \n",
    "# is real                                                                       \n",
    "norm = 2.0/npts\n",
    "fk = norm*np.fft.rfft(f)\n",
    "\n",
    "ofk_r = fk.real.copy()\n",
    "ofk_i = fk.imag.copy()\n",
    "\n",
    "# get the frequencies\n",
    "k = np.fft.rfftfreq(len(xx))\n",
    "\n",
    "# since we don't include the endpoint in xx, to normalize things, we need       \n",
    "# max(xx) + dx to get the true length of the domain\n",
    "#\n",
    "# This makes the frequencies essentially multiples of 1/dx\n",
    "kfreq = k*npts/(max(xx) + xx[1])"
   ]
  },
  {
   "cell_type": "code",
   "execution_count": null,
   "metadata": {},
   "outputs": [],
   "source": [
    "fig, ax = plt.subplots()\n",
    "ax.plot(kfreq, fk.real, label=\"real\")\n",
    "ax.plot(kfreq, fk.imag, \":\", label=\"imaginary\")\n",
    "ax.legend(frameon=False)"
   ]
  },
  {
   "cell_type": "markdown",
   "metadata": {},
   "source": [
    "Filter out the higher frequencies"
   ]
  },
  {
   "cell_type": "code",
   "execution_count": null,
   "metadata": {},
   "outputs": [],
   "source": [
    "fk[kfreq > 0.4] = 0.0\n",
    "\n",
    "# element 0 of fk is the DC component                                           \n",
    "fk_r = fk.real\n",
    "fk_i = fk.imag\n",
    "\n",
    "# Inverse transform: F(k) -> f(x)                                               \n",
    "fkinv = np.fft.irfft(fk/norm)"
   ]
  },
  {
   "cell_type": "code",
   "execution_count": null,
   "metadata": {},
   "outputs": [],
   "source": [
    "fig, ax = plt.subplots()\n",
    "ax.plot(xx, fkinv.real)"
   ]
  },
  {
   "cell_type": "code",
   "execution_count": null,
   "metadata": {},
   "outputs": [],
   "source": []
  },
  {
   "cell_type": "markdown",
   "metadata": {},
   "source": [
    "## Linear Algebra"
   ]
  },
  {
   "cell_type": "markdown",
   "metadata": {},
   "source": [
    "### General manipulations of matrices"
   ]
  },
  {
   "cell_type": "markdown",
   "metadata": {},
   "source": [
    "You can use regular numpy arrays or you can use a special matrix class that offers some shortcuts"
   ]
  },
  {
   "cell_type": "code",
   "execution_count": null,
   "metadata": {},
   "outputs": [],
   "source": [
    "a = np.array([[1.0, 2.0], [3.0, 4.0]])"
   ]
  },
  {
   "cell_type": "code",
   "execution_count": null,
   "metadata": {},
   "outputs": [],
   "source": [
    "print(a)\n",
    "print(a.transpose())\n",
    "print(a.T)"
   ]
  },
  {
   "cell_type": "code",
   "execution_count": null,
   "metadata": {},
   "outputs": [],
   "source": [
    "ainv = np.linalg.inv(a)\n",
    "print(ainv)"
   ]
  },
  {
   "cell_type": "code",
   "execution_count": null,
   "metadata": {},
   "outputs": [],
   "source": [
    "a @ ainv"
   ]
  },
  {
   "cell_type": "markdown",
   "metadata": {},
   "source": [
    "The eye() function will generate an identity matrix (as will the identity())"
   ]
  },
  {
   "cell_type": "code",
   "execution_count": null,
   "metadata": {},
   "outputs": [],
   "source": [
    "print(np.eye(2))\n",
    "print(np.identity(2))"
   ]
  },
  {
   "cell_type": "markdown",
   "metadata": {},
   "source": [
    "We can solve Ax = b"
   ]
  },
  {
   "cell_type": "code",
   "execution_count": null,
   "metadata": {},
   "outputs": [],
   "source": [
    "b = np.array([5, 7])\n",
    "x = np.linalg.solve(a, b)\n",
    "print(x)"
   ]
  },
  {
   "cell_type": "markdown",
   "metadata": {},
   "source": [
    "### The matrix class"
   ]
  },
  {
   "cell_type": "code",
   "execution_count": null,
   "metadata": {},
   "outputs": [],
   "source": [
    "A = np.matrix('1.0 2.0; 3.0 4.0')\n",
    "print(A)\n",
    "print(A.T)"
   ]
  },
  {
   "cell_type": "code",
   "execution_count": null,
   "metadata": {},
   "outputs": [],
   "source": [
    "X = np.matrix('5.0 7.0')\n",
    "Y = X.T\n",
    "\n",
    "print(A*Y)"
   ]
  },
  {
   "cell_type": "code",
   "execution_count": null,
   "metadata": {},
   "outputs": [],
   "source": [
    "print(A.I*Y)"
   ]
  },
  {
   "cell_type": "markdown",
   "metadata": {},
   "source": [
    "### Tridiagonal matrix solve"
   ]
  },
  {
   "cell_type": "markdown",
   "metadata": {},
   "source": [
    "Here we'll solve the equation:\n",
    "\n",
    "$$f^{\\prime\\prime} = g(x)$$\n",
    "\n",
    "with $g(x) = \\sin(x)$, and the domain $x \\in [0, 2\\pi]$, with boundary conditions $f(0) = f(2\\pi) = 0$.  The solution is simply $f(x) = -\\sin(x)$.\n",
    "\n",
    "We'll use a grid of $N$ points with $x_0$ on the left boundary and $x_{N-1}$ on the right boundary.\n",
    "\n",
    "We difference our equation as:\n",
    "\n",
    "$$f_{i+1} - 2 f_i + f_{i-1} = \\Delta x^2 g_i$$\n",
    "\n",
    "We keep the boundary points fixed, so we only need to solve for the $N-2$ interior points.  Near the boundaries, our difference is:\n",
    "\n",
    "$$f_2 - 2 f_1 = \\Delta x^2 g_1$$\n",
    "\n",
    "and\n",
    "\n",
    "$$-2f_{N-1} + f_{N-2} = \\Delta x^2 g_{N-1}$$\n",
    "\n",
    "We can write the system of equations for solving for the $N-2$ interior points as:\n",
    "\n",
    "$$A = \\left (\n",
    "\\begin{array}{ccccccc}\n",
    "-2 &  1 &    &        &         &           &          \\newline\n",
    "1  & -2 &  1 &        &         &           &          \\newline\n",
    "   &  1 & -2 & 1      &         &           &          \\newline\n",
    "   &         & \\ddots & \\ddots & \\ddots  &           &          \\newline\n",
    "   &         &        & \\ddots & \\ddots  & \\ddots  &          \\newline\n",
    "   &         &        &        & 1       & -2 & 1  \\newline\n",
    "   &         &        &        &         & 1  & -2 \\newline\n",
    "\\end{array}\n",
    "\\right )\n",
    "$$\n",
    "\n",
    "$$\n",
    "x = \\left (\n",
    "\\begin{array}{c}\n",
    "f_\\mathrm{1} \\\\\\\n",
    "f_\\mathrm{2} \\\\\\\n",
    "f_\\mathrm{3} \\\\\\\n",
    "\\vdots \\\\\\\n",
    "\\vdots \\\\\\\n",
    "f_\\mathrm{N-2} \\\\\\\n",
    "f_\\mathrm{N-1} \\\\\\\n",
    "\\end{array}\n",
    "\\right )\n",
    "$$\n",
    "\n",
    "$$\n",
    "b = \\Delta x^2 \\left (\n",
    "\\begin{array}{c}\n",
    "g_\\mathrm{1} \\\\\\\n",
    "g_\\mathrm{2} \\\\\\\n",
    "g_\\mathrm{3} \\\\\\\n",
    "\\vdots \\\\\\\n",
    "\\vdots \\\\\\\n",
    "g_\\mathrm{N-2} \\\\\\\n",
    "g_\\mathrm{N-1}\\\\\\\n",
    "\\end{array}\n",
    "\\right )\n",
    "$$\n",
    "\n",
    "Then we just solve $A x = b$"
   ]
  },
  {
   "cell_type": "code",
   "execution_count": null,
   "metadata": {},
   "outputs": [],
   "source": [
    "import scipy.linalg as linalg\n",
    "\n",
    "# our grid -- including endpoints\n",
    "N = 100\n",
    "x = np.linspace(0.0, 2.0*np.pi, N, endpoint=True)\n",
    "dx = x[1]-x[0]\n",
    "\n",
    "# our source\n",
    "g = np.sin(x)\n",
    "\n",
    "# our matrix will be tridiagonal, with [1, -2, 1] on the diagonals\n",
    "# we only solve for the N-2 interior points\n",
    "\n",
    "# diagonal\n",
    "d = -2*np.ones(N-2)\n",
    "\n",
    "# upper -- note that the upper diagonal has 1 less element than the\n",
    "# main diagonal.  The SciPy banded solver wants the matrix in the \n",
    "# form:\n",
    "#\n",
    "# *    a01  a12  a23  a34  a45    <- upper diagonal\n",
    "# a00  a11  a22  a33  a44  a55    <- diagonal\n",
    "# a10  a21  a32  a43  a54   *     <- lower diagonal\n",
    "#\n",
    "\n",
    "u = np.ones(N-2)\n",
    "u[0] = 0.0\n",
    "\n",
    "# lower\n",
    "l = np.ones(N-2)\n",
    "l[N-3] = 0.0\n",
    "\n",
    "# put the upper, diagonal, and lower parts together as a banded matrix\n",
    "A = np.matrix([u,d,l])\n",
    "\n",
    "# solve A sol = dx**2 g for the inner N-2 points\n",
    "sol = linalg.solve_banded((1,1), A, dx**2*g[1:N-1])"
   ]
  },
  {
   "cell_type": "code",
   "execution_count": null,
   "metadata": {},
   "outputs": [],
   "source": [
    "fig, ax = plt.subplots()\n",
    "ax.plot(x[1:N-1], sol)"
   ]
  },
  {
   "cell_type": "code",
   "execution_count": null,
   "metadata": {},
   "outputs": [],
   "source": []
  },
  {
   "cell_type": "code",
   "execution_count": null,
   "metadata": {},
   "outputs": [],
   "source": [
    "import numpy as np\n",
    "import matplotlib.pyplot as plt"
   ]
  },
  {
   "cell_type": "markdown",
   "metadata": {},
   "source": [
    "# Exercises\n",
    "\n",
    "For the exam, please complete two of these exercise (don't pick both Q1 and Q2, too easy)"
   ]
  },
  {
   "cell_type": "markdown",
   "metadata": {},
   "source": [
    "## Q1: Simple numerical integral\n",
    "\n",
    "Numerical integration methods work differently depending on whether you have the analytic function available (in which case you can evaluate it freely at any point you please) or if it is sampled for you.\n",
    "\n",
    "Consider the function $f(x) = e^{-x^2}$.  We want to integrate this from $[-5, 5]$.  The\n",
    "analytic integral is not easily obtained.  Use `integrate.quad` to do the integration."
   ]
  },
  {
   "cell_type": "code",
   "execution_count": null,
   "metadata": {},
   "outputs": [],
   "source": []
  },
  {
   "cell_type": "markdown",
   "metadata": {},
   "source": [
    "Consider now that you have data that represents a function sampled a `N` points, but you don't know the analytic form of the function.  Here, we create the sampling from a uniform distribution"
   ]
  },
  {
   "cell_type": "code",
   "execution_count": null,
   "metadata": {},
   "outputs": [],
   "source": [
    "N = 32\n",
    "x = np.linspace(-5, 5, N)\n",
    "f = np.exp(-x**2)\n",
    "f"
   ]
  },
  {
   "cell_type": "markdown",
   "metadata": {},
   "source": [
    "Compute the integral of this sampled function using Simpson's method (`integrate.simps`).  Now, vary the number of sample points (try 64, 128, ...) and see how the answer changes.  Simpson's method is 4-th order accurate, which means that the error should decrease by $2^4$ when we double the number of sample points."
   ]
  },
  {
   "cell_type": "markdown",
   "metadata": {},
   "source": [
    "Make a plot of the error (compared to the quadrature result) vs. N"
   ]
  },
  {
   "cell_type": "code",
   "execution_count": null,
   "metadata": {},
   "outputs": [],
   "source": []
  },
  {
   "cell_type": "markdown",
   "metadata": {},
   "source": [
    "## Q2: Interpolation error\n",
    "\n",
    "There are a large number of different interpolation schemes available through scipy.  Let's test them out.\n",
    "\n",
    "Create a python function, $f(x)$, that is your true function (make it complicated!).  Now create $N$ samples of it (either regularly spaced or irregularly spaced).\n",
    "\n",
    "Try some of the different interpolation routines.  `interpolate.interp1d` takes a `kind` argument that lets you choose the order of the interpolation.  Measure the error in the method, by comparing the interpolated result with the actual function value.  \n",
    "\n",
    "Then do the same cubic splines (look at `CubicSpline`)\n",
    "\n",
    "Plot the resulting interpolant."
   ]
  },
  {
   "cell_type": "code",
   "execution_count": null,
   "metadata": {},
   "outputs": [],
   "source": []
  },
  {
   "cell_type": "markdown",
   "metadata": {},
   "source": [
    "## Q3: Basins of attraction\n",
    "\n",
    "Consider the function\n",
    "\n",
    "$$q(x) = x^3 - 2x^2 - 11x + 12$$\n",
    "\n",
    "This has 3 roots has you should find them all. This equation is known to cause problems for some root-finding methods because it exhibits [basis of attraction](https://en.wikipedia.org/wiki/Newton%27s_method#Basins_of_attraction) -- very closely spaced initial guesses leave to very different roots.\n",
    "\n",
    "Find all three roots using both `optimize.brentq` and `optimize.root`."
   ]
  },
  {
   "cell_type": "code",
   "execution_count": null,
   "metadata": {},
   "outputs": [],
   "source": [
    "from scipy import optimize"
   ]
  },
  {
   "cell_type": "code",
   "execution_count": null,
   "metadata": {},
   "outputs": [],
   "source": [
    "import numpy as np\n",
    "import matplotlib.pyplot as plt\n",
    "def q(x):\n",
    "    return x**3 - 2*x**2 - 11*x + 12\n",
    "\n",
    "# Generate x values\n",
    "x = np.linspace(-5, 5, 20)\n",
    "# Compute y values for the function q(x)\n",
    "y = q(x)\n",
    "\n",
    "# Find indexes where the sign of y changes (indicating a root)\n",
    "indexes = np.where(np.abs(np.diff(np.sign(y))) > 0)\n",
    "\n",
    "# Create arrays of x values around the roots\n",
    "array_a = [x[i] for i in indexes[0]]\n",
    "array_b = np.array([x[i+1] for i in indexes[0]])\n",
    "\n",
    "# Use Brent's method to find the roots\n",
    "roots_brentq = [optimize.brentq(q, a, b) for a, b in zip(array_a, array_b)]\n",
    "\n",
    "# Create initial guesses for the roots\n",
    "array_guesses = (array_a + array_b) / 2\n",
    "# Use optimize.root to find the roots\n",
    "roots = optimize.root(q, array_guesses)\n",
    "\n",
    "# Plot the function q(x)\n",
    "plt.plot(x, y, c=\"k\", label=\"q(x)\")\n",
    "# Plot the y=0 line\n",
    "plt.axhline([0], c=\"red\", label=\"y=0\", ls=\"--\")\n",
    "\n",
    "# Plot the roots found by Brent's method\n",
    "for i in range(len(roots_brentq)):\n",
    "    if i == len(roots_brentq) - 1:\n",
    "        plt.axvline(roots_brentq[i], c=\"green\", label=\"optimize.brentq roots\", ls=\"--\")\n",
    "    else:\n",
    "        plt.axvline(roots_brentq[i], c=\"green\", ls=\"--\")\n",
    "\n",
    "# Plot the roots found by optimize.root\n",
    "for i in range(len(roots.x)):\n",
    "    if i == len(roots.x) - 1:\n",
    "        plt.axvline(roots.x[i], c=\"darkorange\", label=\"optimize.root roots\", ls=\":\")\n",
    "    else:\n",
    "        plt.axvline(roots.x[i], c=\"darkorange\", ls=\":\")\n",
    "\n",
    "# Set plot labels and legend\n",
    "plt.xlabel(\"x\")\n",
    "plt.ylabel(\"q(x)\")\n",
    "plt.legend()\n",
    "plt.show()"
   ]
  },
  {
   "attachments": {
    "orbit_setup.png": {
     "image/png": "[encoded data removed]"
    }
   },
   "cell_type": "markdown",
   "metadata": {},
   "source": [
    "## Q5: Planetary orbits\n",
    "\n",
    "We want to consider planetary orbits.  To do this, we need to solve Newton's second law together with Newton's law of gravity.  If we restrict ourselves to the x-y plane, then there are 4 quantities we need to solve for: $x$, $y$, $v_x$, and $v_y$.  These evolve according to:\n",
    "\n",
    "\\begin{align*}\n",
    "\\frac{dx}{dt} &= v_x \\\\\n",
    "\\frac{dy}{dt} &= v_y \\\\\n",
    "\\frac{dv_x}{dt} &= a_x = -\\frac{GM_\\star x}{r^3} \\\\\n",
    "\\frac{dv_y}{dt} &= a_y = -\\frac{GM_\\star y}{r^3}\n",
    "\\end{align*}\n",
    "\n",
    "To integrate these forward in time, we need an initial condition for each quantity.  We'll setup our system such that the Sun is at the origin (that will be one focus), and the planet begins at perihelion and orbits counterclockwise. \n",
    "\n",
    "![orbit_setup.png](attachment:orbit_setup.png)\n",
    "\n",
    "The distance of perihelion from the focus is:\n",
    "\n",
    "$$r_p = a (1 - e)$$\n",
    "\n",
    "where $a$ is the semi-major axis and $e$ is the eccentricity.  The perihelion velocity is all in the $y$ direction and is:\n",
    "\n",
    "$$v_y = v_p = \\sqrt{\\frac{GM_\\star}{a} \\frac{1+e}{1-e}}$$\n",
    "\n",
    "We'll work in units of AU, years, and solar masses, in which case, $GM_\\star = 4\\pi^2$ (for the Sun).  \n",
    "\n",
    "Your initial conditions should be:\n",
    "\n",
    "  * $x(t=0) = r_p$\n",
    "  * $y(t=0) = 0$\n",
    "  * $v_x(t=0) = 0$\n",
    "  * $v_y(t=0) = v_p$"
   ]
  },
  {
   "cell_type": "markdown",
   "metadata": {},
   "source": [
    "Use the scipy ODE integration methods to integrate an orbit and plot it"
   ]
  },
  {
   "cell_type": "code",
   "execution_count": null,
   "metadata": {},
   "outputs": [],
   "source": [
    "import numpy as np\n",
    "from matplotlib.animation import FuncAnimation\n",
    "import matplotlib.pyplot as plt\n",
    "import scipy.integrate as integrate\n",
    "from IPython.display import HTML\n",
    "\n",
    "# Define the evolution function for the ODE system\n",
    "def evol(t, x):\n",
    "    x_pos = x[0]\n",
    "    y_pos = x[1]\n",
    "    vx = x[2]\n",
    "    vy = x[3]\n",
    "    r = np.sqrt(x_pos**2 + y_pos**2)\n",
    "    ax = -4 * np.pi**2 * M * x_pos / r**3\n",
    "    ay = -4 * np.pi**2 * M * y_pos / r**3\n",
    "    dx_dt = vx\n",
    "    dy_dt = vy\n",
    "    dvx_dt = ax\n",
    "    dvy_dt = ay\n",
    "    return np.array([dx_dt, dy_dt, dvx_dt, dvy_dt])\n",
    "\n",
    "# Function to integrate the ODE system\n",
    "def ode_integrate(X0, dt, tmax):\n",
    "    X = integrate.solve_ivp(evol, (0.0, tmax), X0, method=\"DOP853\", dense_output=True)\n",
    "\n",
    "    # Get the solution at intermediate times\n",
    "    ts = np.arange(0.0, tmax, dt)\n",
    "    Xs = X.sol(ts)\n",
    "    return ts, Xs\n",
    "\n",
    "# Define parameters\n",
    "a = 1\n",
    "e = 0.7\n",
    "M = 1\n",
    "\n",
    "# Initial conditions\n",
    "x0 = a * (1 - e)\n",
    "y0 = 0\n",
    "vx0 = 0\n",
    "vy0 = np.sqrt(4 * np.pi**2 * M / a * (1 + e) / (1 - e))\n",
    "initial_conditions = np.array([x0, y0, vx0, vy0])\n",
    "\n",
    "# Time parameters\n",
    "tmax = 5\n",
    "dt = 0.01\n",
    "\n",
    "# Integrate the ODE system\n",
    "ts, Xs = ode_integrate(initial_conditions, dt, tmax)\n",
    "\n",
    "# Calculate kinetic, potential, and total energy\n",
    "E_kin = 0.5 * (Xs[2, :]**2 + Xs[3, :]**2)\n",
    "E_pot = -4 * np.pi**2 * M / np.sqrt(Xs[0, :]**2 + Xs[1, :]**2)\n",
    "E_tot = E_kin + E_pot\n",
    "E_tot_0 = 0.5 * (initial_conditions[2]**2 + initial_conditions[3]**2) - 4 * np.pi**2 * M / np.sqrt(initial_conditions[0]**2 + initial_conditions[1]**2)\n",
    "\n",
    "# Calculate angular momentum\n",
    "L_tot = Xs[0, :] * Xs[3, :] - Xs[1, :] * Xs[2, :]\n",
    "L_tot_0 = np.sqrt(np.sum((initial_conditions[0] * initial_conditions[3] - initial_conditions[1] * initial_conditions[2])**2))\n",
    "\n",
    "# Plotting\n",
    "fig, axs = plt.subplots(3, 2, figsize=(12, 15))\n",
    "\n",
    "# Plot x and y coordinates\n",
    "axs[0, 0].plot(ts, Xs[0, :], c=\"red\", label=\"x\", ls=\"--\")\n",
    "axs[0, 0].plot(ts, Xs[1, :], c=\"blue\", label=\"y\", ls=\"--\")\n",
    "axs[0, 0].set_xlabel(\"t\")\n",
    "axs[0, 0].set_ylabel(\"coordinates\")\n",
    "axs[0, 0].legend()\n",
    "axs[0, 0].set_title(\"Coordinates evolution\")\n",
    "\n",
    "# Plot velocities\n",
    "axs[0, 1].plot(ts, Xs[2, :], c=\"red\", label=r\"$v_x$\", ls=\"--\")\n",
    "axs[0, 1].plot(ts, Xs[3, :], c=\"blue\", label=r\"$v_y$\", ls=\"--\")\n",
    "axs[0, 1].set_xlabel(\"t\")\n",
    "axs[0, 1].set_ylabel(\"velocities\")\n",
    "axs[0, 1].legend()\n",
    "axs[0, 1].set_title(\"Velocities evolution\")\n",
    "# Plot r^2\n",
    "axs[1, 0].plot(ts, (Xs[0, :]**2 + Xs[1, :]**2) / x0**2, c=\"k\", label=\"r\")\n",
    "axs[1, 0].plot(ts, np.ones(len(ts)), c=\"red\", label=r\"$r_{\\mathrm{peri}}$\")\n",
    "axs[1, 0].set_xlabel(\"t\")\n",
    "axs[1, 0].set_ylabel(r\"$r^2$\")\n",
    "axs[1, 0].legend()\n",
    "axs[1, 0].set_title(\"Radial coordinate evolution\")\n",
    "\n",
    "# Plot orbit\n",
    "axs[1, 1].plot(Xs[0, :], Xs[1, :], c=\"k\", label=\"orbit\")\n",
    "axs[1,1].scatter([0], [0], c=\"red\", label=\"M\")\n",
    "axs[1, 1].set_xlabel(\"x\")\n",
    "axs[1, 1].set_ylabel(\"y\")\n",
    "axs[1, 1].set_aspect('equal', 'box')\n",
    "axs[1, 1].legend()\n",
    "axs[1, 1].set_title(\"Orbit\")\n",
    "# Plot energy conservation\n",
    "axs[2, 0].plot(ts, (E_tot - E_tot_0) / E_tot_0, c=\"k\", label=\"Total Energy\")\n",
    "axs[2, 0].set_xlabel(\"t\")\n",
    "axs[2, 0].set_ylabel(r\"$\\Delta E / E_0$\")\n",
    "axs[2, 0].legend()\n",
    "axs[2, 0].set_title(\"Energy conservation\")\n",
    "\n",
    "# Plot angular momentum conservation\n",
    "axs[2, 1].plot(ts, (L_tot - L_tot_0) / L_tot_0, c=\"k\", label=\"Total Angular Momentum\")\n",
    "axs[2, 1].set_xlabel(\"t\")\n",
    "axs[2, 1].set_ylabel(r\"$\\Delta L / L_0$\")\n",
    "axs[2, 1].legend()\n",
    "axs[2, 1].set_title(\"Angular momentum conservation\")\n",
    "\n",
    "plt.tight_layout()\n",
    "plt.show()\n",
    "\n",
    "# Create a figure and axis for the animation\n",
    "fig_anim, ax_anim = plt.subplots(figsize=(8, 8))\n",
    "\n",
    "# Set up the axis limits\n",
    "ax_anim.set_xlim(np.min(Xs[0,:])-0.1,np.max(Xs[0,:])+0.1)\n",
    "ax_anim.set_ylim(np.min(Xs[1,:])-0.1,np.max(Xs[1,:])+0.1)\n",
    "ax_anim.set_aspect('equal')\n",
    "ax.set_xlabel(\"x\")\n",
    "ax.set_xlabel(\"y\")\n",
    "# Plot the central mass\n",
    "ax_anim.scatter([0], [0], c=\"red\", label=\"M\")\n",
    "\n",
    "# Initialize the line and point for the orbit\n",
    "line, = ax_anim.plot([], [], 'k-', label=\"orbit\")\n",
    "point, = ax_anim.plot([], [], 'bo', label=\"m\")\n",
    "\n",
    "# Initialization function for the animation\n",
    "def init():\n",
    "    line.set_data([], [])\n",
    "    point.set_data([], [])\n",
    "    \n",
    "    return line, point\n",
    "\n",
    "# Update function for the animation\n",
    "def update(frame):\n",
    "    x = Xs[0, :frame]\n",
    "    y = Xs[1, :frame]\n",
    "    line.set_data(x, y)\n",
    "    point.set_data(Xs[0, frame], Xs[1, frame])\n",
    "    ax_anim.set_title(f\"t={ts[frame]:.2f}\")\n",
    "    return line, point\n",
    "\n",
    "# Create the animation\n",
    "ani = FuncAnimation(fig_anim, update, frames=len(ts), init_func=init,interval=20, blit=True)\n",
    "plt.legend()\n",
    "HTML(ani.to_jshtml())\n"
   ]
  },
  {
   "cell_type": "markdown",
   "metadata": {},
   "source": [
    "## Q6: Damped driven pendulum and chaos"
   ]
  },
  {
   "cell_type": "markdown",
   "metadata": {},
   "source": [
    "There are a large class of ODE integration methods available through the `scipy.integrate.ode()` function.  Not all of them provide _dense output_ -- most will just give you the value at the end of the integration.  \n",
    "\n",
    "The explicit Runge-Kutta integrator will give you access to the solution at intermediate points and provides methods to interpolate to any value.  You enable this via `dense_output=True`.\n",
    "\n",
    "The damped-driven pendulum obeys the following equations:\n",
    "\n",
    "$$\\dot{\\theta} = \\omega$$\n",
    "\n",
    "$$\\dot{\\omega} = -q \\omega - \\sin \\theta + b \\cos \\omega_d t$$\n",
    "\n",
    "here, $\\theta$ is the angle of the pendulum from vertical and $\\omega$ is the angular velocity.  $q$ is a damping coefficient, $b$ is a forcing amplitude, and $\\omega_d$ is a driving frequency.\n",
    "\n",
    "Choose $q = 0.5$ and $\\omega_d = 2/3$.\n",
    "\n",
    "Integrate the system for different values of $b$ (start with $b = 0.9$ and increase by $0.05$, and plot the results ($\\theta$ vs. $t$).  Here's a RHS function to get you started:"
   ]
  },
  {
   "cell_type": "code",
   "execution_count": null,
   "metadata": {},
   "outputs": [],
   "source": [
    "def rhs(t, Y, q, omega_d, b):\n",
    "        \"\"\" damped driven pendulum system derivatives.  Here, Y = (theta, omega) are\n",
    "        the solution variables. \"\"\"\n",
    "        f = np.zeros_like(Y)\n",
    "        \n",
    "        f[0] = Y[1]\n",
    "        f[1] = -q*Y[1] - np.sin(Y[0]) + b*np.cos(omega_d*t)\n",
    "\n",
    "        return f"
   ]
  },
  {
   "cell_type": "markdown",
   "metadata": {},
   "source": [
    "Note that the pendulum can flip over, giving values of $\\theta$ outside of $[-\\pi, \\pi]$.  The following function can be used to restrict it back to $[-\\pi, \\pi]$ for plotting."
   ]
  },
  {
   "cell_type": "code",
   "execution_count": null,
   "metadata": {},
   "outputs": [],
   "source": [
    "def restrict_theta(theta):\n",
    "    \"\"\" convert theta to be restricted to lie between -pi and pi\"\"\"\n",
    "    tnew = theta + np.pi\n",
    "    tnew += -2.0*np.pi*np.floor(tnew/(2.0*np.pi))\n",
    "    tnew -= np.pi\n",
    "    return tnew"
   ]
  },
  {
   "cell_type": "markdown",
   "metadata": {},
   "source": [
    "Write a function that takes an initial angle, $\\theta_0$, and integrates the system and returns the solution.\n",
    "\n",
    "Note, the righthand side function, `rhs`, takes additional arguments that you need to pass through the integrator.  The preferred method to do this with the `solve_ivp()` interface appears to be to use `functools.partial()`, as:\n",
    "```\n",
    "from functools import partial\n",
    "\n",
    "r = solve_ivp(partial(rhs, q=q, omega_d=omega_d, b=b), ...)\n",
    "```\n",
    "\n",
    "Some values of $b$ will show very non-periodic behavior.  To see chaos, integrate two different pendula that are the same except for $\\theta_0$, with only a small difference between then (like 60 degrees and 60.0001 degrees.  You'll see the solutions track for a while, but then diverge."
   ]
  },
  {
   "cell_type": "code",
   "execution_count": null,
   "metadata": {},
   "outputs": [],
   "source": []
  },
  {
   "cell_type": "markdown",
   "metadata": {},
   "source": [
    "## Q6: Condition number\n",
    "\n",
    "For a linear system, ${\\bf A x} = {\\bf b}$, we can only solve for $x$ if the determinant of the matrix ${\\bf A}$ is non-zero.  If the determinant is zero, then we call the matrix _singular_.  The _condition number_ of a matrix is a measure of how close we are to being singular.  The formal definition is:\n",
    "\n",
    "\\begin{equation}\n",
    "\\mathrm{cond}({\\bf A}) = \\| {\\bf A}\\| \\| {\\bf A}^{-1} \\|\n",
    "\\end{equation}\n",
    "\n",
    "But we can think of it as a measure of how much ${\\bf x}$ would change due to a small change in ${\\bf b}$.  A large condition number means that our solution for ${\\bf x}$ could be inaccurate.\n",
    "\n",
    "A _Hilbert matrix_ has $H_{ij} = (i + j + 1)^{-1}$, and is known to have a large condition number.  Here's a routine to generate a Hilbert matrix (with a `for` loop, I'm a terrible programmer!) "
   ]
  },
  {
   "cell_type": "code",
   "execution_count": null,
   "metadata": {},
   "outputs": [],
   "source": [
    "def hilbert(n):\n",
    "    \"\"\" return a Hilbert matrix, H_ij = (i + j - 1)^{-1} \"\"\"\n",
    "\n",
    "    H = np.zeros((n,n), dtype=np.float64)\n",
    "\n",
    "    for i in range(1, n+1):\n",
    "        for j in range(1, n+1):\n",
    "            H[i-1,j-1] = 1.0/(i + j - 1.0)\n",
    "    return H"
   ]
  },
  {
   "cell_type": "markdown",
   "metadata": {},
   "source": [
    "Let's solve ${\\bf Hx} ={\\bf b}$.  Create a linear system by picking an ${\\bf x}$ and generating a ${\\bf b}$ by multiplying by the matrix ${\\bf H}$.  Then use the `scipy.linalg.solve()` function to recover ${\\bf x}$.  Compute the error in ${\\bf x}$ as a function of the size of the matrix.\n",
    "\n",
    "You won't need a large matrix, $n \\sim 13$ or so, will start showing big errors.\n",
    "\n",
    "You can compute the condition number with `numpy.linalg.cond()`\n",
    "\n",
    "There are methods that can do a better job with nearly-singular matrices.  Take a look at `scipy.linalg.lstsq()` for example."
   ]
  },
  {
   "cell_type": "markdown",
   "metadata": {},
   "source": [
    "## Q7: Noisy signal"
   ]
  },
  {
   "cell_type": "markdown",
   "metadata": {},
   "source": [
    "A convolution is defined as:  \n",
    "\n",
    "\\begin{equation}  \n",
    "  (f \\star g)(t) \\equiv \\int_{-\\infty}^{\\infty} f(\\tau) g(t - \\tau) d\\tau \\tag{1}  \n",
    "\\end{equation}  \n",
    "\n",
    "It is easy to compute this with FFTs, via the _convolution theorem_,  \n",
    "\n",
    "\\begin{equation}  \n",
    "  \\mathcal{F}\\{f \\star g\\} = \\mathcal{F}\\{f\\} \\, \\mathcal{F}\\{g\\} \\tag{2}  \n",
    "\\end{equation}  \n",
    "\n",
    "That is: the Fourier transform of the convolution of $f$ and $g$ is simply the product of the individual transforms of $f$ and $g$. This allows us to compute the convolution via multiplication in Fourier space and then take the inverse transform, $\\mathcal{F}^{-1}\\{\\}$, to recover the convolution in real space:\n",
    "\n",
    "\\begin{equation}  \n",
    "  f \\star g = \\mathcal{F}^{-1}\\{ \\mathcal{F}\\{f\\} \\, \\mathcal{F}\\{g\\}\\} \\tag{3}  \n",
    "\\end{equation}  \n",
    "\n",
    "A common use of a convolution is to smooth noisy data, for example by convolving noisy data with a Gaussian. We'll do that here.\n"
   ]
  },
  {
   "cell_type": "markdown",
   "metadata": {},
   "source": [
    "Here's some noisy data we'll work with"
   ]
  },
  {
   "cell_type": "code",
   "execution_count": null,
   "metadata": {},
   "outputs": [],
   "source": [
    "def fdata(x, L):\n",
    "    A = L/10.0\n",
    "    return 2*np.sin(2*np.pi*x/L) + x*(L-x)**2/L**3 * np.cos(x) + \\\n",
    "           5*x*(L-x)/L**2 + A/2 + 0.1*A*np.sin(13*np.pi*x/L)\n",
    "\n",
    "N = 2048\n",
    "L = 50.0\n",
    "x = np.linspace(0, L, N, endpoint=False)\n",
    "orig = fdata(x, L)\n",
    "noisy = orig + 0.5*np.random.randn(N)"
   ]
  },
  {
   "cell_type": "code",
   "execution_count": null,
   "metadata": {},
   "outputs": [],
   "source": [
    "plt.plot(x, noisy)\n",
    "plt.plot(x, orig)"
   ]
  },
  {
   "cell_type": "markdown",
   "metadata": {},
   "source": [
    "SciPy provides a convolution function `scipy.signal.convolve()` that can do the convolution for us directly.  To smooth the data, we want to use a Gaussian, which can be produced by `scipy.signal.windows.gaussian()`.\n",
    "\n",
    "Convolve the noisy data with a Gaussian and plot the result together with the original data `orig`.  You'll need to play with the width of the Gaussian to get a nice smoothing.  You also will need to normalize the Gaussian so that it sums to 1, otherwise, your convolved data will be shifted verfically from the original function."
   ]
  },
  {
   "cell_type": "code",
   "execution_count": null,
   "metadata": {},
   "outputs": [],
   "source": []
  },
  {
   "cell_type": "markdown",
   "metadata": {},
   "source": [
    "## Q8: FFT of the chaotic pendulum\n",
    "\n",
    "In Q6 we looked at ODEs and the chaotic pendulum, and were interested in writing a method to integrate the pendulum in time.\n",
    "\n",
    "Here we want to examine its behavior in frequency space.  The code below will integrate the chaotic pendulum, while requesting that the solution be stored at points spaced with a fixed dt, which makes it suitable for taking the FFT."
   ]
  },
  {
   "cell_type": "code",
   "execution_count": null,
   "metadata": {},
   "outputs": [],
   "source": [
    "from functools import partial\n",
    "from scipy.integrate import solve_ivp\n",
    "\n",
    "def rhs(t, Y, q, omega_d, b):\n",
    "    \"\"\" damped driven pendulum system derivatives.  Here, Y = (theta, omega) are\n",
    "        the solution variables. \"\"\"\n",
    "    f = np.zeros_like(Y)\n",
    "        \n",
    "    f[0] = Y[1]\n",
    "    f[1] = -q*Y[1] - np.sin(Y[0]) + b*np.cos(omega_d*t)\n",
    "\n",
    "    return f\n",
    "\n",
    "def restrict_theta(theta):\n",
    "    \"\"\" convert theta to be restricted to lie between -pi and pi\"\"\"\n",
    "    tnew = theta + np.pi\n",
    "    tnew += -2.0*np.pi*np.floor(tnew/(2.0*np.pi))\n",
    "    tnew -= np.pi\n",
    "    return tnew\n",
    "\n",
    "def int_pendulum(theta0, q, omega_d, b, tend, dt):\n",
    "    \"\"\" integrate the pendulum and return solution with dt\"\"\"\n",
    "\n",
    "    # points in time where we'll request the solution\n",
    "    tpoints = np.arange(0.0, tend, dt)\n",
    "    \n",
    "    r = solve_ivp(partial(rhs, q=q, omega_d=omega_d, b=b),\n",
    "                  [0.0, tend], [theta0, 0.0],\n",
    "                  method='RK45', t_eval=tpoints)\n",
    "\n",
    "    return r.t, r.y"
   ]
  },
  {
   "cell_type": "markdown",
   "metadata": {},
   "source": [
    "The call below will give an undamped pendulum.  For a small amplitude, since we have $L = g$ in our pendulum, the period is simply $T = 2\\pi$, and the frequency is $\\nu_k = 1/(2\\pi)$.  We plot things in terms of angular frequency, $\\omega_k = 2\\pi \\nu_k$, so all the power will be at $\\omega_k = 1$."
   ]
  },
  {
   "cell_type": "code",
   "execution_count": null,
   "metadata": {},
   "outputs": [],
   "source": [
    "t, y = int_pendulum(np.radians(10), 0.0, 0.6666, 0.0, 200.0, 0.1)"
   ]
  },
  {
   "cell_type": "markdown",
   "metadata": {},
   "source": [
    "Your task is to complete the power spectrum routine below to calculate the FFT of theta and plot it.  Experiment with the damping and driving parameters to see the complexity of the pendulum in frequency space when it becomes chaotic.  For reference, here's a plot of the solution theta"
   ]
  },
  {
   "cell_type": "code",
   "execution_count": null,
   "metadata": {},
   "outputs": [],
   "source": [
    "plt.plot(t, restrict_theta(y[0,:]))\n",
    "plt.xlabel(\"t\")\n",
    "plt.ylabel(r\"$\\theta$\")"
   ]
  },
  {
   "cell_type": "code",
   "execution_count": null,
   "metadata": {},
   "outputs": [],
   "source": [
    "def power_spectrum(t, theta0):\n",
    "    \"\"\" return the power spectrum of theta.  For the frequency\n",
    "        component, return it in terms of omega \"\"\"\n",
    "\n",
    "    theta = restrict_theta(theta0)\n",
    "    \n",
    "    # fill in the rest -- take the FFT of theta and return omega_k and \n",
    "    # the transform of theta\n"
   ]
  },
  {
   "cell_type": "code",
   "execution_count": null,
   "metadata": {},
   "outputs": [],
   "source": []
  },
  {
   "cell_type": "code",
   "execution_count": null,
   "metadata": {},
   "outputs": [],
   "source": []
  }
 ],
 "metadata": {
  "kernelspec": {
   "display_name": "base",
   "language": "python",
   "name": "python3"
  },
  "language_info": {
   "codemirror_mode": {
    "name": "ipython",
    "version": 3
   },
   "file_extension": ".py",
   "mimetype": "text/x-python",
   "name": "python",
   "nbconvert_exporter": "python",
   "pygments_lexer": "ipython3",
   "version": "3.12.4"
  }
 },
 "nbformat": 4,
 "nbformat_minor": 4
}
